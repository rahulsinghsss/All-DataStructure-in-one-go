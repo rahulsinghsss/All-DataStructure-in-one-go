{
  "nbformat": 4,
  "nbformat_minor": 0,
  "metadata": {
    "colab": {
      "provenance": [],
      "authorship_tag": "ABX9TyPTfY8hDXXUH0b9494WVqSQ",
      "include_colab_link": true
    },
    "kernelspec": {
      "name": "python3",
      "display_name": "Python 3"
    },
    "language_info": {
      "name": "python"
    }
  },
  "cells": [
    {
      "cell_type": "markdown",
      "metadata": {
        "id": "view-in-github",
        "colab_type": "text"
      },
      "source": [
        "<a href=\"https://colab.research.google.com/github/rahulsinghsss/All-DataStructure-in-one-go/blob/main/STEELEYE.ipynb\" target=\"_parent\"><img src=\"https://colab.research.google.com/assets/colab-badge.svg\" alt=\"Open In Colab\"/></a>"
      ]
    },
    {
      "cell_type": "code",
      "source": [
        "!pip install boto3\n",
        "import requests\n",
        "import xml.etree.ElementTree as ET\n",
        "import zipfile\n",
        "import csv\n",
        "from io import BytesIO\n",
        "from zipfile import ZipFile\n",
        "import boto3\n",
        "\n",
        "# Step 1: Download the XML file from the link\n",
        "xml_url = 'https://registers.esma.europa.eu/solr/esma_registers_firds_files/select?q=*&fq=publication_date:%5B2022-01-03T00:00:00Z+TO+2022-01-03T23:59:59Z%5D&wt=xml&indent=true&start=0&rows=100'\n",
        "response = requests.get(xml_url)\n",
        "xml_content = response.content\n",
        "\n",
        "# Step 2: Parse through the XML file to find the first download link with file_type=DITINS\n",
        "root = ET.fromstring(xml_content)\n",
        "download_link = None\n",
        "for doc in root.iter('doc'):\n",
        "    if doc.find('str[@name=\"file_type\"]').text == 'DLTINS':\n",
        "        download_link = doc.find('str[@name=\"download_link\"]').text\n",
        "        break\n",
        "\n",
        "# Step 3: Download the zip file from the extracted download link\n",
        "zip_content = requests.get(download_link).content\n",
        "\n",
        "# Step 4: Extract the XML file from the zip file\n",
        "zip_file = ZipFile(BytesIO(zip_content))\n",
        "xml_file = zip_file.open(zip_file.namelist()[0])\n",
        "xml_content = xml_file.read()\n",
        "\n",
        "# Step 5: Parse the contents of the XML file and extract the required data\n",
        "root = ET.fromstring(xml_content)\n",
        "rows = []\n",
        "for row in root.findall(\".//{*}FinInstrmGnlAttrbts\"):\n",
        "    id = row.find(\"{*}Id\").text\n",
        "    full_name = row.find(\"{*}FullNm\").text\n",
        "    clssfctn_tp = row.find(\"{*}ClssfctnTp\").text\n",
        "    cmmdty_deriv_ind = row.find(\"{*}CmmdtyDerivInd\").text\n",
        "    ntnl_ccy = row.find(\"{*}NtnlCcy\").text\n",
        "    issr_element = row.find(\"{*}Issr\")\n",
        "    issr = issr_element.text if issr_element is not None else None\n",
        "    rows.append([id, full_name, clssfctn_tp, cmmdty_deriv_ind, ntnl_ccy, issr])\n",
        "\n",
        "# Step 6: Write the extracted data into a CSV file with the given header\n",
        "header = ['FinInstrmGnlAttrbts.Id', 'FinInstrmGnlAttrbts.FullNm', 'FinInstrmGnlAttrbts.ClssfctnTp', 'FinInstrmGnlAttrbts.CmmdtyDerivInd', 'FinInstrmGnlAttrbts.NtnlCcy', 'Issr']\n",
        "with open('output.csv', 'w', newline='') as csv_file:\n",
        "    writer = csv.writer(csv_file)\n",
        "    writer.writerow(header)\n",
        "    writer.writerows(rows)\n",
        "\n",
        "#Downolad the file\n",
        "from google.colab import files\n",
        "files.download('output.csv')\n",
        "\n",
        "#Uplading to s3 bucket--------------------------------------------------------------------------------\n",
        "\n",
        "# Set your AWS credentials\n",
        "aws_access_key_id = 'your_access_key_id'\n",
        "aws_secret_access_key = 'your_secret_access_key'\n",
        "\n",
        "# Set the name of your S3 bucket and the file path of your CSV file\n",
        "bucket_name = 'your_bucket_name'\n",
        "file_path = '/path/to/your/file.csv'\n",
        "\n",
        "# Create an S3 client\n",
        "s3_client = boto3.client('s3', aws_access_key_id=aws_access_key_id, aws_secret_access_key=aws_secret_access_key)\n",
        "\n",
        "# Upload the CSV file to S3\n",
        "with open(file_path, 'rb') as file:\n",
        "    s3_client.upload_fileobj(file, bucket_name, 'your_filename.csv')\n",
        "\n",
        "print('File uploaded successfully')\n"
      ],
      "metadata": {
        "id": "PM_yPWzhAQuE"
      },
      "execution_count": null,
      "outputs": []
    }
  ]
}